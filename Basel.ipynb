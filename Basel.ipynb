{
 "cells": [
  {
   "cell_type": "code",
   "execution_count": 194,
   "metadata": {},
   "outputs": [],
   "source": [
    "from generator import generate_wiener_diff\n",
    "import matplotlib.pyplot as plt\n",
    "import numpy as np"
   ]
  },
  {
   "cell_type": "code",
   "execution_count": 307,
   "metadata": {},
   "outputs": [],
   "source": [
    "d = 0.000001\n",
    "n = 100000\n",
    "white_noise = generate_wiener_diff(d, n)\n",
    "\n",
    "s = 0.9    # Fractionality"
   ]
  },
  {
   "cell_type": "code",
   "execution_count": 264,
   "metadata": {},
   "outputs": [],
   "source": [
    "z_0 = 1.1**2\n",
    "z_list = [z_0]"
   ]
  },
  {
   "cell_type": "code",
   "execution_count": 312,
   "metadata": {},
   "outputs": [
    {
     "data": {
      "text/plain": [
       "[<matplotlib.lines.Line2D at 0x2c9f04fcad0>]"
      ]
     },
     "execution_count": 312,
     "metadata": {},
     "output_type": "execute_result"
    }
   ],
   "source": [
    "for w in white_noise:\n",
    "    z = z_list[-1]\n",
    "\n",
    "    z_tmp = ((1 - 2*s)/2*z)*d + w\n",
    "    z_list.append(z_tmp)\n",
    "\n",
    "plt.plot(range(len(z_list[1:])), z_list[1:])"
   ]
  },
  {
   "cell_type": "code",
   "execution_count": 308,
   "metadata": {},
   "outputs": [],
   "source": [
    "P = np.array([[0, 1], [-1, 0]])\n",
    "\n",
    "def zed(x, y):\n",
    "    return x**2 + y**2\n",
    "\n",
    "def gradient(x, y):\n",
    "    return np.array([[2*x], [2*y]])\n",
    "\n",
    "def hessian(x, y):\n",
    "    return np.array([[2, 0], [0, 2]])\n",
    "\n",
    "def delta(x, y):\n",
    "    return 1\n",
    "\n",
    "def gamma(x, y, C):\n",
    "    return (1 - 2*s)/((zed(x, y) - C)*2)\n",
    "\n",
    "def beta_part(x, y):\n",
    "    return (delta(x, y)/np.sum(gradient(x, y))) * np.ones((2, 1))\n",
    "\n",
    "def beta_hom(x, y, C):\n",
    "    return C * P @ gradient(x, y)\n",
    "\n",
    "def beta(x, y, C):\n",
    "    return beta_part(x, y) + beta_hom(x, y, C)\n",
    "\n",
    "def gamma_tilde(x, y, C_z):\n",
    "    return gamma(x, y, C_z) - 0.5 * ((delta(x, y)**2)/(np.sum(gradient(x, y)))) * np.ones((1, 2)) @ hessian(x, y) @ np.ones((2, 1))\n",
    "\n",
    "def alpha_part(x, y, C_z):\n",
    "    return (gamma_tilde(x, y, C_z)/np.sum(gradient(x, y))) * np.ones((2, 1))\n",
    "\n",
    "def alpha_hom(x, y, C_a, C_b):\n",
    "    return C_a * (P @ gradient(x, y)) - 0.5 * (C_b**2) * (P.transpose() @ (hessian(x, y) @ (P @ gradient(x, y)))) - (delta(x, y)/np.sum(gradient(x, y))) * P.transpose() @ hessian(x, y) @ P @gradient(x, y)\n",
    "\n",
    "def alpha(x, y, C_z, C_a, C_b):\n",
    "    return alpha_part(x, y , C_z) + alpha_hom(x, y, C_a, C_b)"
   ]
  },
  {
   "cell_type": "code",
   "execution_count": 309,
   "metadata": {},
   "outputs": [],
   "source": [
    "x_0 = 1.1\n",
    "y_0 = 0\n",
    "\n",
    "\n",
    "x_list = [x_0]\n",
    "y_list = [y_0]\n",
    "\n",
    "for w in white_noise:\n",
    "\n",
    "    x = x_list[-1]\n",
    "    y = y_list[-1]\n",
    "\n",
    "    vec =  np.array([[x], [y]]) + alpha(x, y, 1, 0, 0) * d + beta(x, y, 0) * w\n",
    "\n",
    "    x_list.append(vec[0][0])\n",
    "    y_list.append(vec[1][0])"
   ]
  },
  {
   "cell_type": "code",
   "execution_count": 313,
   "metadata": {},
   "outputs": [
    {
     "data": {
      "text/plain": [
       "[<matplotlib.lines.Line2D at 0x2c9facc0450>]"
      ]
     },
     "execution_count": 313,
     "metadata": {},
     "output_type": "execute_result"
    }
   ],
   "source": [
    "plt.plot(range(len(x_list)), np.power(x_list, 2) + np.power(y_list, 2))"
   ]
  }
 ],
 "metadata": {
  "kernelspec": {
   "display_name": "base",
   "language": "python",
   "name": "python3"
  },
  "language_info": {
   "codemirror_mode": {
    "name": "ipython",
    "version": 3
   },
   "file_extension": ".py",
   "mimetype": "text/x-python",
   "name": "python",
   "nbconvert_exporter": "python",
   "pygments_lexer": "ipython3",
   "version": "3.11.7"
  }
 },
 "nbformat": 4,
 "nbformat_minor": 2
}
